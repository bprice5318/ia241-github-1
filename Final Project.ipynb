{
 "cells": [
  {
   "cell_type": "markdown",
   "id": "db612f47",
   "metadata": {},
   "source": [
    "# A Data Analysis of COVID-19 in Algeria"
   ]
  },
  {
   "cell_type": "markdown",
   "id": "708e2a9e",
   "metadata": {},
   "source": [
    "![Algeria](https://www.mei.edu/sites/default/files/2020-05/Algeria%20COVID%20March%202020.jpg)"
   ]
  },
  {
   "cell_type": "markdown",
   "id": "1a0212a1",
   "metadata": {},
   "source": [
    "Photo by Middle East Institute https://www.mei.edu/publications/algeria-toward-economic-collapse"
   ]
  },
  {
   "cell_type": "markdown",
   "id": "6de85353",
   "metadata": {},
   "source": [
    "\n",
    "COVID-19, also known as the Coronavirus, was a respiratory virus that began to spread on mass in 2020. The disease brought on a global pandemic which incured economic shutdown and mass lockdowns across the planet. The effects of this virus are still being felt. This project seeks to use Jupyter to answer three questions, specifically about COVID-19 within Algeria. "
   ]
  },
  {
   "cell_type": "markdown",
   "id": "1e10e3b8",
   "metadata": {},
   "source": [
    "The Data Source for this analysis is the European Centre for Disease Prevention and Control's data on COVID-19 cases and deaths to December 14, 2020."
   ]
  },
  {
   "cell_type": "code",
   "execution_count": 1,
   "id": "d2221173",
   "metadata": {},
   "outputs": [],
   "source": [
    "import pandas"
   ]
  },
  {
   "cell_type": "code",
   "execution_count": 2,
   "id": "c4c8c2ff",
   "metadata": {},
   "outputs": [],
   "source": [
    "df= pandas.read_excel('s3://ia241-spring2022-price/covid_data.xls')"
   ]
  },
  {
   "cell_type": "code",
   "execution_count": 3,
   "id": "e28317e1",
   "metadata": {},
   "outputs": [],
   "source": [
    "algeria_data= df.loc[df['countriesAndTerritories']=='Algeria']"
   ]
  },
  {
   "cell_type": "code",
   "execution_count": 4,
   "id": "4cf39da1",
   "metadata": {},
   "outputs": [
    {
     "data": {
      "text/html": [
       "<div>\n",
       "<style scoped>\n",
       "    .dataframe tbody tr th:only-of-type {\n",
       "        vertical-align: middle;\n",
       "    }\n",
       "\n",
       "    .dataframe tbody tr th {\n",
       "        vertical-align: top;\n",
       "    }\n",
       "\n",
       "    .dataframe thead th {\n",
       "        text-align: right;\n",
       "    }\n",
       "</style>\n",
       "<table border=\"1\" class=\"dataframe\">\n",
       "  <thead>\n",
       "    <tr style=\"text-align: right;\">\n",
       "      <th></th>\n",
       "      <th>dateRep</th>\n",
       "      <th>day</th>\n",
       "      <th>month</th>\n",
       "      <th>year</th>\n",
       "      <th>cases</th>\n",
       "      <th>deaths</th>\n",
       "      <th>countriesAndTerritories</th>\n",
       "      <th>geoId</th>\n",
       "      <th>countryterritoryCode</th>\n",
       "      <th>popData2019</th>\n",
       "      <th>continentExp</th>\n",
       "      <th>Cumulative_number_for_14_days_of_COVID-19_cases_per_100000</th>\n",
       "    </tr>\n",
       "  </thead>\n",
       "  <tbody>\n",
       "    <tr>\n",
       "      <th>621</th>\n",
       "      <td>14/12/2020</td>\n",
       "      <td>14</td>\n",
       "      <td>12</td>\n",
       "      <td>2020</td>\n",
       "      <td>464</td>\n",
       "      <td>12</td>\n",
       "      <td>Algeria</td>\n",
       "      <td>DZ</td>\n",
       "      <td>DZA</td>\n",
       "      <td>43053054.0</td>\n",
       "      <td>Africa</td>\n",
       "      <td>22.950753</td>\n",
       "    </tr>\n",
       "    <tr>\n",
       "      <th>622</th>\n",
       "      <td>13/12/2020</td>\n",
       "      <td>13</td>\n",
       "      <td>12</td>\n",
       "      <td>2020</td>\n",
       "      <td>517</td>\n",
       "      <td>9</td>\n",
       "      <td>Algeria</td>\n",
       "      <td>DZ</td>\n",
       "      <td>DZA</td>\n",
       "      <td>43053054.0</td>\n",
       "      <td>Africa</td>\n",
       "      <td>24.216633</td>\n",
       "    </tr>\n",
       "    <tr>\n",
       "      <th>623</th>\n",
       "      <td>2020-12-12 00:00:00</td>\n",
       "      <td>12</td>\n",
       "      <td>12</td>\n",
       "      <td>2020</td>\n",
       "      <td>542</td>\n",
       "      <td>11</td>\n",
       "      <td>Algeria</td>\n",
       "      <td>DZ</td>\n",
       "      <td>DZA</td>\n",
       "      <td>43053054.0</td>\n",
       "      <td>Africa</td>\n",
       "      <td>25.440704</td>\n",
       "    </tr>\n",
       "    <tr>\n",
       "      <th>624</th>\n",
       "      <td>2020-11-12 00:00:00</td>\n",
       "      <td>11</td>\n",
       "      <td>12</td>\n",
       "      <td>2020</td>\n",
       "      <td>565</td>\n",
       "      <td>10</td>\n",
       "      <td>Algeria</td>\n",
       "      <td>DZ</td>\n",
       "      <td>DZA</td>\n",
       "      <td>43053054.0</td>\n",
       "      <td>Africa</td>\n",
       "      <td>26.639225</td>\n",
       "    </tr>\n",
       "    <tr>\n",
       "      <th>625</th>\n",
       "      <td>2020-10-12 00:00:00</td>\n",
       "      <td>10</td>\n",
       "      <td>12</td>\n",
       "      <td>2020</td>\n",
       "      <td>598</td>\n",
       "      <td>15</td>\n",
       "      <td>Algeria</td>\n",
       "      <td>DZ</td>\n",
       "      <td>DZA</td>\n",
       "      <td>43053054.0</td>\n",
       "      <td>Africa</td>\n",
       "      <td>27.847037</td>\n",
       "    </tr>\n",
       "    <tr>\n",
       "      <th>626</th>\n",
       "      <td>2020-09-12 00:00:00</td>\n",
       "      <td>9</td>\n",
       "      <td>12</td>\n",
       "      <td>2020</td>\n",
       "      <td>591</td>\n",
       "      <td>12</td>\n",
       "      <td>Algeria</td>\n",
       "      <td>DZ</td>\n",
       "      <td>DZA</td>\n",
       "      <td>43053054.0</td>\n",
       "      <td>Africa</td>\n",
       "      <td>28.838837</td>\n",
       "    </tr>\n",
       "    <tr>\n",
       "      <th>627</th>\n",
       "      <td>2020-08-12 00:00:00</td>\n",
       "      <td>8</td>\n",
       "      <td>12</td>\n",
       "      <td>2020</td>\n",
       "      <td>573</td>\n",
       "      <td>11</td>\n",
       "      <td>Algeria</td>\n",
       "      <td>DZ</td>\n",
       "      <td>DZA</td>\n",
       "      <td>43053054.0</td>\n",
       "      <td>Africa</td>\n",
       "      <td>30.097749</td>\n",
       "    </tr>\n",
       "    <tr>\n",
       "      <th>628</th>\n",
       "      <td>2020-07-12 00:00:00</td>\n",
       "      <td>7</td>\n",
       "      <td>12</td>\n",
       "      <td>2020</td>\n",
       "      <td>750</td>\n",
       "      <td>15</td>\n",
       "      <td>Algeria</td>\n",
       "      <td>DZ</td>\n",
       "      <td>DZA</td>\n",
       "      <td>43053054.0</td>\n",
       "      <td>Africa</td>\n",
       "      <td>31.101162</td>\n",
       "    </tr>\n",
       "    <tr>\n",
       "      <th>629</th>\n",
       "      <td>2020-06-12 00:00:00</td>\n",
       "      <td>6</td>\n",
       "      <td>12</td>\n",
       "      <td>2020</td>\n",
       "      <td>772</td>\n",
       "      <td>9</td>\n",
       "      <td>Algeria</td>\n",
       "      <td>DZ</td>\n",
       "      <td>DZA</td>\n",
       "      <td>43053054.0</td>\n",
       "      <td>Africa</td>\n",
       "      <td>31.886240</td>\n",
       "    </tr>\n",
       "    <tr>\n",
       "      <th>630</th>\n",
       "      <td>2020-05-12 00:00:00</td>\n",
       "      <td>5</td>\n",
       "      <td>12</td>\n",
       "      <td>2020</td>\n",
       "      <td>803</td>\n",
       "      <td>12</td>\n",
       "      <td>Algeria</td>\n",
       "      <td>DZ</td>\n",
       "      <td>DZA</td>\n",
       "      <td>43053054.0</td>\n",
       "      <td>Africa</td>\n",
       "      <td>32.459950</td>\n",
       "    </tr>\n",
       "    <tr>\n",
       "      <th>631</th>\n",
       "      <td>2020-04-12 00:00:00</td>\n",
       "      <td>4</td>\n",
       "      <td>12</td>\n",
       "      <td>2020</td>\n",
       "      <td>843</td>\n",
       "      <td>16</td>\n",
       "      <td>Algeria</td>\n",
       "      <td>DZ</td>\n",
       "      <td>DZA</td>\n",
       "      <td>43053054.0</td>\n",
       "      <td>Africa</td>\n",
       "      <td>33.156765</td>\n",
       "    </tr>\n",
       "    <tr>\n",
       "      <th>632</th>\n",
       "      <td>2020-03-12 00:00:00</td>\n",
       "      <td>3</td>\n",
       "      <td>12</td>\n",
       "      <td>2020</td>\n",
       "      <td>932</td>\n",
       "      <td>17</td>\n",
       "      <td>Algeria</td>\n",
       "      <td>DZ</td>\n",
       "      <td>DZA</td>\n",
       "      <td>43053054.0</td>\n",
       "      <td>Africa</td>\n",
       "      <td>33.574854</td>\n",
       "    </tr>\n",
       "    <tr>\n",
       "      <th>633</th>\n",
       "      <td>2020-02-12 00:00:00</td>\n",
       "      <td>2</td>\n",
       "      <td>12</td>\n",
       "      <td>2020</td>\n",
       "      <td>963</td>\n",
       "      <td>16</td>\n",
       "      <td>Algeria</td>\n",
       "      <td>DZ</td>\n",
       "      <td>DZA</td>\n",
       "      <td>43053054.0</td>\n",
       "      <td>Africa</td>\n",
       "      <td>33.821062</td>\n",
       "    </tr>\n",
       "    <tr>\n",
       "      <th>634</th>\n",
       "      <td>2020-01-12 00:00:00</td>\n",
       "      <td>1</td>\n",
       "      <td>12</td>\n",
       "      <td>2020</td>\n",
       "      <td>968</td>\n",
       "      <td>21</td>\n",
       "      <td>Algeria</td>\n",
       "      <td>DZ</td>\n",
       "      <td>DZA</td>\n",
       "      <td>43053054.0</td>\n",
       "      <td>Africa</td>\n",
       "      <td>33.911648</td>\n",
       "    </tr>\n",
       "    <tr>\n",
       "      <th>635</th>\n",
       "      <td>30/11/2020</td>\n",
       "      <td>30</td>\n",
       "      <td>11</td>\n",
       "      <td>2020</td>\n",
       "      <td>1009</td>\n",
       "      <td>17</td>\n",
       "      <td>Algeria</td>\n",
       "      <td>DZ</td>\n",
       "      <td>DZA</td>\n",
       "      <td>43053054.0</td>\n",
       "      <td>Africa</td>\n",
       "      <td>33.776930</td>\n",
       "    </tr>\n",
       "    <tr>\n",
       "      <th>636</th>\n",
       "      <td>29/11/2020</td>\n",
       "      <td>29</td>\n",
       "      <td>11</td>\n",
       "      <td>2020</td>\n",
       "      <td>1044</td>\n",
       "      <td>21</td>\n",
       "      <td>Algeria</td>\n",
       "      <td>DZ</td>\n",
       "      <td>DZA</td>\n",
       "      <td>43053054.0</td>\n",
       "      <td>Africa</td>\n",
       "      <td>33.430846</td>\n",
       "    </tr>\n",
       "    <tr>\n",
       "      <th>637</th>\n",
       "      <td>28/11/2020</td>\n",
       "      <td>28</td>\n",
       "      <td>11</td>\n",
       "      <td>2020</td>\n",
       "      <td>1058</td>\n",
       "      <td>20</td>\n",
       "      <td>Algeria</td>\n",
       "      <td>DZ</td>\n",
       "      <td>DZA</td>\n",
       "      <td>43053054.0</td>\n",
       "      <td>Africa</td>\n",
       "      <td>32.966302</td>\n",
       "    </tr>\n",
       "    <tr>\n",
       "      <th>638</th>\n",
       "      <td>27/11/2020</td>\n",
       "      <td>27</td>\n",
       "      <td>11</td>\n",
       "      <td>2020</td>\n",
       "      <td>1085</td>\n",
       "      <td>23</td>\n",
       "      <td>Algeria</td>\n",
       "      <td>DZ</td>\n",
       "      <td>DZA</td>\n",
       "      <td>43053054.0</td>\n",
       "      <td>Africa</td>\n",
       "      <td>32.522664</td>\n",
       "    </tr>\n",
       "    <tr>\n",
       "      <th>639</th>\n",
       "      <td>26/11/2020</td>\n",
       "      <td>26</td>\n",
       "      <td>11</td>\n",
       "      <td>2020</td>\n",
       "      <td>1025</td>\n",
       "      <td>20</td>\n",
       "      <td>Algeria</td>\n",
       "      <td>DZ</td>\n",
       "      <td>DZA</td>\n",
       "      <td>43053054.0</td>\n",
       "      <td>Africa</td>\n",
       "      <td>31.979148</td>\n",
       "    </tr>\n",
       "    <tr>\n",
       "      <th>640</th>\n",
       "      <td>25/11/2020</td>\n",
       "      <td>25</td>\n",
       "      <td>11</td>\n",
       "      <td>2020</td>\n",
       "      <td>1133</td>\n",
       "      <td>15</td>\n",
       "      <td>Algeria</td>\n",
       "      <td>DZ</td>\n",
       "      <td>DZA</td>\n",
       "      <td>43053054.0</td>\n",
       "      <td>Africa</td>\n",
       "      <td>31.482087</td>\n",
       "    </tr>\n",
       "  </tbody>\n",
       "</table>\n",
       "</div>"
      ],
      "text/plain": [
       "                 dateRep  day  month  year  cases  deaths  \\\n",
       "621           14/12/2020   14     12  2020    464      12   \n",
       "622           13/12/2020   13     12  2020    517       9   \n",
       "623  2020-12-12 00:00:00   12     12  2020    542      11   \n",
       "624  2020-11-12 00:00:00   11     12  2020    565      10   \n",
       "625  2020-10-12 00:00:00   10     12  2020    598      15   \n",
       "626  2020-09-12 00:00:00    9     12  2020    591      12   \n",
       "627  2020-08-12 00:00:00    8     12  2020    573      11   \n",
       "628  2020-07-12 00:00:00    7     12  2020    750      15   \n",
       "629  2020-06-12 00:00:00    6     12  2020    772       9   \n",
       "630  2020-05-12 00:00:00    5     12  2020    803      12   \n",
       "631  2020-04-12 00:00:00    4     12  2020    843      16   \n",
       "632  2020-03-12 00:00:00    3     12  2020    932      17   \n",
       "633  2020-02-12 00:00:00    2     12  2020    963      16   \n",
       "634  2020-01-12 00:00:00    1     12  2020    968      21   \n",
       "635           30/11/2020   30     11  2020   1009      17   \n",
       "636           29/11/2020   29     11  2020   1044      21   \n",
       "637           28/11/2020   28     11  2020   1058      20   \n",
       "638           27/11/2020   27     11  2020   1085      23   \n",
       "639           26/11/2020   26     11  2020   1025      20   \n",
       "640           25/11/2020   25     11  2020   1133      15   \n",
       "\n",
       "    countriesAndTerritories geoId countryterritoryCode  popData2019  \\\n",
       "621                 Algeria    DZ                  DZA   43053054.0   \n",
       "622                 Algeria    DZ                  DZA   43053054.0   \n",
       "623                 Algeria    DZ                  DZA   43053054.0   \n",
       "624                 Algeria    DZ                  DZA   43053054.0   \n",
       "625                 Algeria    DZ                  DZA   43053054.0   \n",
       "626                 Algeria    DZ                  DZA   43053054.0   \n",
       "627                 Algeria    DZ                  DZA   43053054.0   \n",
       "628                 Algeria    DZ                  DZA   43053054.0   \n",
       "629                 Algeria    DZ                  DZA   43053054.0   \n",
       "630                 Algeria    DZ                  DZA   43053054.0   \n",
       "631                 Algeria    DZ                  DZA   43053054.0   \n",
       "632                 Algeria    DZ                  DZA   43053054.0   \n",
       "633                 Algeria    DZ                  DZA   43053054.0   \n",
       "634                 Algeria    DZ                  DZA   43053054.0   \n",
       "635                 Algeria    DZ                  DZA   43053054.0   \n",
       "636                 Algeria    DZ                  DZA   43053054.0   \n",
       "637                 Algeria    DZ                  DZA   43053054.0   \n",
       "638                 Algeria    DZ                  DZA   43053054.0   \n",
       "639                 Algeria    DZ                  DZA   43053054.0   \n",
       "640                 Algeria    DZ                  DZA   43053054.0   \n",
       "\n",
       "    continentExp  Cumulative_number_for_14_days_of_COVID-19_cases_per_100000  \n",
       "621       Africa                                          22.950753           \n",
       "622       Africa                                          24.216633           \n",
       "623       Africa                                          25.440704           \n",
       "624       Africa                                          26.639225           \n",
       "625       Africa                                          27.847037           \n",
       "626       Africa                                          28.838837           \n",
       "627       Africa                                          30.097749           \n",
       "628       Africa                                          31.101162           \n",
       "629       Africa                                          31.886240           \n",
       "630       Africa                                          32.459950           \n",
       "631       Africa                                          33.156765           \n",
       "632       Africa                                          33.574854           \n",
       "633       Africa                                          33.821062           \n",
       "634       Africa                                          33.911648           \n",
       "635       Africa                                          33.776930           \n",
       "636       Africa                                          33.430846           \n",
       "637       Africa                                          32.966302           \n",
       "638       Africa                                          32.522664           \n",
       "639       Africa                                          31.979148           \n",
       "640       Africa                                          31.482087           "
      ]
     },
     "execution_count": 4,
     "metadata": {},
     "output_type": "execute_result"
    }
   ],
   "source": [
    "algeria_data[:20]"
   ]
  },
  {
   "cell_type": "markdown",
   "id": "625913d8",
   "metadata": {},
   "source": [
    "# Question 1: What months were Highest for 2020 COVID Infections in Algeria?"
   ]
  },
  {
   "cell_type": "code",
   "execution_count": 5,
   "id": "245541ac",
   "metadata": {},
   "outputs": [],
   "source": [
    "sum_cases_by_month = algeria_data.groupby('month').sum()['cases']"
   ]
  },
  {
   "cell_type": "code",
   "execution_count": 6,
   "id": "a4d0cfb0",
   "metadata": {},
   "outputs": [
    {
     "data": {
      "text/plain": [
       "<AxesSubplot:xlabel='month'>"
      ]
     },
     "execution_count": 6,
     "metadata": {},
     "output_type": "execute_result"
    },
    {
     "data": {
      "image/png": "[encoded data removed]",
      "text/plain": [
       "<Figure size 432x288 with 1 Axes>"
      ]
     },
     "metadata": {
      "needs_background": "light"
     },
     "output_type": "display_data"
    }
   ],
   "source": [
    "sum_cases_by_month.plot.bar()"
   ]
  },
  {
   "cell_type": "markdown",
   "id": "a8312696",
   "metadata": {},
   "source": [
    "Given that a comparison over time is needed, a bar graph is the best option to visualize this question. The bar graph above displays the Algerian data with months on the x-axis and number of infections on the y-axis. Looking at the graph, it can seen that there are two large spikes of infections in July and November, with November being the largest. With that, it can be said that November and July had the highest number of COVID infections in 2020."
   ]
  },
  {
   "cell_type": "markdown",
   "id": "214dcd35",
   "metadata": {},
   "source": [
    "# Question 2: How did infections related to deaths in Algeria in 2020?"
   ]
  },
  {
   "cell_type": "code",
   "execution_count": 7,
   "id": "826a9d01",
   "metadata": {},
   "outputs": [
    {
     "data": {
      "text/plain": [
       "<AxesSubplot:xlabel='cases', ylabel='deaths'>"
      ]
     },
     "execution_count": 7,
     "metadata": {},
     "output_type": "execute_result"
    },
    {
     "data": {
      "image/png": "[encoded data removed]",
      "text/plain": [
       "<Figure size 432x288 with 1 Axes>"
      ]
     },
     "metadata": {
      "needs_background": "light"
     },
     "output_type": "display_data"
    }
   ],
   "source": [
    "algeria_data.plot.scatter(x='cases',y='deaths')"
   ]
  },
  {
   "cell_type": "markdown",
   "id": "9c80584e",
   "metadata": {},
   "source": [
    "In looking for relationships between two variables, a scatterplot is best for this text. The scatterplot above was created with number of cases as the x-axis and number of deaths on the y-axis. Looking at this graph, it can be seen that, although there are certainly outliers, the graph shows an upward trend as it moves right. This means that as cases increase, the graph moving to the right, the number of deaths also increase, the graph moving up. "
   ]
  },
  {
   "cell_type": "markdown",
   "id": "ee0bd5d3",
   "metadata": {},
   "source": [
    "# Question 3: What months in 2020 were Lowest for COVID Deaths in Algeria?"
   ]
  },
  {
   "cell_type": "code",
   "execution_count": 8,
   "id": "cb8e6c60",
   "metadata": {},
   "outputs": [],
   "source": [
    "sum_death_by_month = algeria_data.groupby('month').sum()['deaths']"
   ]
  },
  {
   "cell_type": "code",
   "execution_count": 9,
   "id": "5c3fb9a6",
   "metadata": {},
   "outputs": [
    {
     "data": {
      "text/plain": [
       "<AxesSubplot:xlabel='month'>"
      ]
     },
     "execution_count": 9,
     "metadata": {},
     "output_type": "execute_result"
    },
    {
     "data": {
      "image/png": "[encoded data removed]",
      "text/plain": [
       "<Figure size 432x288 with 1 Axes>"
      ]
     },
     "metadata": {
      "needs_background": "light"
     },
     "output_type": "display_data"
    }
   ],
   "source": [
    "sum_death_by_month.plot.bar()"
   ]
  },
  {
   "cell_type": "markdown",
   "id": "7f340b23",
   "metadata": {},
   "source": [
    "The best graph for this question is, again, a bar graph. First, a bar graph was created with months listed on the x-axis and sum of deaths per month listed on the y-axis. Looking at the graph, it can be seen that the two lowest months for deaths are March and "
   ]
  },
  {
   "cell_type": "markdown",
   "id": "a1d68d5f",
   "metadata": {},
   "source": [
    "# Conclusion \n",
    "The conclusion of this analysis of the 2020 Algeria COVID Data is that infections are directly related to deaths. The highest month for infections was also the highest month for deaths. The lowest month for deaths was also the lowest months for infections. The scatterplot also that as infections increased, so did deaths."
   ]
  },
  {
   "cell_type": "markdown",
   "id": "d3cd4dda",
   "metadata": {},
   "source": [
    "# Limitations: \n",
    "The biggest limitation of this project is that the data source that was used does not include data beyond 2020. Without more recent data, the analysis of this project is inevitabilty limited in its usefulness. "
   ]
  }
 ],
 "metadata": {
  "kernelspec": {
   "display_name": "conda_python3",
   "language": "python",
   "name": "conda_python3"
  },
  "language_info": {
   "codemirror_mode": {
    "name": "ipython",
    "version": 3
   },
   "file_extension": ".py",
   "mimetype": "text/x-python",
   "name": "python",
   "nbconvert_exporter": "python",
   "pygments_lexer": "ipython3",
   "version": "3.6.13"
  }
 },
 "nbformat": 4,
 "nbformat_minor": 5
}
